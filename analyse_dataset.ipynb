{
 "cells": [
  {
   "cell_type": "markdown",
   "metadata": {},
   "source": [
    "# Réalisez une analyse de sentiments grâce au Deep Learning"
   ]
  },
  {
   "cell_type": "markdown",
   "metadata": {},
   "source": [
    "\n",
    "\n",
    " Vous êtes ingénieur IA chez MIC (Marketing Intelligence Consulting), une entreprise de conseil spécialisée sur les problématiques de marketing digital.\n",
    "\n",
    "Dans deux semaines, vous avez rendez-vous avec Mme Aline, directrice marketing de la compagnie aérienne “Air Paradis”."
   ]
  },
  {
   "cell_type": "markdown",
   "metadata": {},
   "source": [
    "## Analyse du jeu de données : Prédire le sentiment associé à un tweet"
   ]
  },
  {
   "cell_type": "markdown",
   "metadata": {},
   "source": [
    "### Récupération du jeu de données sur kaggle"
   ]
  },
  {
   "cell_type": "markdown",
   "metadata": {},
   "source": [
    "- [Lien téléchargement du jeu de données](https://s3-eu-west-1.amazonaws.com/static.oc-static.com/prod/courses/files/AI+Engineer/Project+7%C2%A0-+D%C3%A9tectez+les+Bad+Buzz+gr%C3%A2ce+au+Deep+Learning/sentiment140.zip)\n",
    "- [Lien Kaggle du jeu de données _Sentiment140 dataset with 1.6 million tweets_](https://www.kaggle.com/datasets/kazanova/sentiment140)\n",
    "- context du dataset : \n",
    "    - This is the sentiment140 dataset. It contains 1,600,000 tweets extracted using the twitter api . The tweets have been annotated (0 = negative, 4 = positive) and they can be used to detect sentiment ."
   ]
  },
  {
   "cell_type": "markdown",
   "metadata": {},
   "source": [
    "#### Importation des librairies"
   ]
  },
  {
   "cell_type": "code",
   "execution_count": 1,
   "metadata": {},
   "outputs": [],
   "source": [
    "import os\n",
    "import pandas as pd\n",
    "import requests\n",
    "import zipfile\n",
    "import matplotlib.pyplot as plt\n",
    "import chardet\n",
    "from wordcloud import WordCloud\n",
    "import nltk\n",
    "from nltk.corpus import stopwords\n",
    "import re"
   ]
  },
  {
   "cell_type": "markdown",
   "metadata": {},
   "source": [
    "#### Script récupération du jeu de données"
   ]
  },
  {
   "cell_type": "code",
   "execution_count": 2,
   "metadata": {},
   "outputs": [
    {
     "name": "stdout",
     "output_type": "stream",
     "text": [
      "Le fichier CSV existe déjà : dataset/training.1600000.processed.noemoticon.csv\n",
      "Processus terminé.\n"
     ]
    }
   ],
   "source": [
    "# URL file to download\n",
    "url = \"https://s3-eu-west-1.amazonaws.com/static.oc-static.com/prod/courses/files/AI+Engineer/Project+7%C2%A0-+D%C3%A9tectez+les+Bad+Buzz+gr%C3%A2ce+au+Deep+Learning/sentiment140.zip\"\n",
    "# Folder to stock files\n",
    "dataset_folder = \"dataset\"\n",
    "zip_file_path = \"sentiment140.zip\"\n",
    "csv_file_name = \"training.1600000.processed.noemoticon.csv\"\n",
    "\n",
    "# Create folder 'dataset' if don't exist\n",
    "os.makedirs(dataset_folder, exist_ok=True)\n",
    "\n",
    "# Verify if CSV file exist\n",
    "csv_path = os.path.join(dataset_folder, csv_file_name)\n",
    "if os.path.exists(csv_path):\n",
    "    print(f\"Le fichier CSV existe déjà : {csv_path}\")\n",
    "else:\n",
    "    # Download zip file if don't exist\n",
    "    if not os.path.exists(zip_file_path):\n",
    "        print(\"Téléchargement du fichier ZIP...\")\n",
    "        response = requests.get(url, stream=True)\n",
    "        if response.status_code == 200:\n",
    "            with open(zip_file_path, \"wb\") as f:\n",
    "                for chunk in response.iter_content(chunk_size=1024):\n",
    "                    f.write(chunk)\n",
    "            print(f\"Fichier ZIP téléchargé : {zip_file_path}\")\n",
    "        else:\n",
    "            print(\"Erreur lors du téléchargement du fichier ZIP\")\n",
    "            exit(1)\n",
    "    else:\n",
    "        print(f\"Le fichier ZIP existe déjà : {zip_file_path}\")\n",
    "\n",
    "    # Extraction ZIP file\n",
    "    print(\"Extraction du fichier ZIP...\")\n",
    "    with zipfile.ZipFile(zip_file_path, \"r\") as zip_ref:\n",
    "        zip_ref.extractall(dataset_folder)\n",
    "    print(\"Extraction terminée.\")\n",
    "\n",
    "    # Verify if csv exist after extraction\n",
    "    if os.path.exists(csv_path):\n",
    "        print(f\"Le fichier CSV a été extrait avec succès : {csv_path}\")\n",
    "    else:\n",
    "        print(\"Le fichier CSV n'a pas été trouvé après extraction.\")\n",
    "\n",
    "print(\"Processus terminé.\")"
   ]
  },
  {
   "cell_type": "markdown",
   "metadata": {},
   "source": [
    "#### Import du jeu de données\n"
   ]
  },
  {
   "cell_type": "markdown",
   "metadata": {},
   "source": [
    "##### Vérification de l'encodage des données"
   ]
  },
  {
   "cell_type": "code",
   "execution_count": 3,
   "metadata": {},
   "outputs": [
    {
     "name": "stdout",
     "output_type": "stream",
     "text": [
      "ascii\n"
     ]
    }
   ],
   "source": [
    "with open(\"dataset/training.1600000.processed.noemoticon.csv\", \"rb\") as f:\n",
    "    result = chardet.detect(f.read(10000))\n",
    "print(result[\"encoding\"])"
   ]
  },
  {
   "cell_type": "markdown",
   "metadata": {},
   "source": [
    "##### Import des données "
   ]
  },
  {
   "cell_type": "code",
   "execution_count": 32,
   "metadata": {},
   "outputs": [
    {
     "data": {
      "text/html": [
       "<div>\n",
       "<style scoped>\n",
       "    .dataframe tbody tr th:only-of-type {\n",
       "        vertical-align: middle;\n",
       "    }\n",
       "\n",
       "    .dataframe tbody tr th {\n",
       "        vertical-align: top;\n",
       "    }\n",
       "\n",
       "    .dataframe thead th {\n",
       "        text-align: right;\n",
       "    }\n",
       "</style>\n",
       "<table border=\"1\" class=\"dataframe\">\n",
       "  <thead>\n",
       "    <tr style=\"text-align: right;\">\n",
       "      <th></th>\n",
       "      <th>target</th>\n",
       "      <th>ids</th>\n",
       "      <th>date</th>\n",
       "      <th>flag</th>\n",
       "      <th>user</th>\n",
       "      <th>text</th>\n",
       "      <th>sentiment</th>\n",
       "    </tr>\n",
       "  </thead>\n",
       "  <tbody>\n",
       "    <tr>\n",
       "      <th>0</th>\n",
       "      <td>0</td>\n",
       "      <td>1467810369</td>\n",
       "      <td>Mon Apr 06 22:19:45 PDT 2009</td>\n",
       "      <td>NO_QUERY</td>\n",
       "      <td>_TheSpecialOne_</td>\n",
       "      <td>@switchfoot http://twitpic.com/2y1zl - Awww, t...</td>\n",
       "      <td>Negative</td>\n",
       "    </tr>\n",
       "    <tr>\n",
       "      <th>1</th>\n",
       "      <td>0</td>\n",
       "      <td>1467810672</td>\n",
       "      <td>Mon Apr 06 22:19:49 PDT 2009</td>\n",
       "      <td>NO_QUERY</td>\n",
       "      <td>scotthamilton</td>\n",
       "      <td>is upset that he can't update his Facebook by ...</td>\n",
       "      <td>Negative</td>\n",
       "    </tr>\n",
       "    <tr>\n",
       "      <th>2</th>\n",
       "      <td>0</td>\n",
       "      <td>1467810917</td>\n",
       "      <td>Mon Apr 06 22:19:53 PDT 2009</td>\n",
       "      <td>NO_QUERY</td>\n",
       "      <td>mattycus</td>\n",
       "      <td>@Kenichan I dived many times for the ball. Man...</td>\n",
       "      <td>Negative</td>\n",
       "    </tr>\n",
       "    <tr>\n",
       "      <th>3</th>\n",
       "      <td>0</td>\n",
       "      <td>1467811184</td>\n",
       "      <td>Mon Apr 06 22:19:57 PDT 2009</td>\n",
       "      <td>NO_QUERY</td>\n",
       "      <td>ElleCTF</td>\n",
       "      <td>my whole body feels itchy and like its on fire</td>\n",
       "      <td>Negative</td>\n",
       "    </tr>\n",
       "    <tr>\n",
       "      <th>4</th>\n",
       "      <td>0</td>\n",
       "      <td>1467811193</td>\n",
       "      <td>Mon Apr 06 22:19:57 PDT 2009</td>\n",
       "      <td>NO_QUERY</td>\n",
       "      <td>Karoli</td>\n",
       "      <td>@nationwideclass no, it's not behaving at all....</td>\n",
       "      <td>Negative</td>\n",
       "    </tr>\n",
       "  </tbody>\n",
       "</table>\n",
       "</div>"
      ],
      "text/plain": [
       "   target         ids                          date      flag  \\\n",
       "0       0  1467810369  Mon Apr 06 22:19:45 PDT 2009  NO_QUERY   \n",
       "1       0  1467810672  Mon Apr 06 22:19:49 PDT 2009  NO_QUERY   \n",
       "2       0  1467810917  Mon Apr 06 22:19:53 PDT 2009  NO_QUERY   \n",
       "3       0  1467811184  Mon Apr 06 22:19:57 PDT 2009  NO_QUERY   \n",
       "4       0  1467811193  Mon Apr 06 22:19:57 PDT 2009  NO_QUERY   \n",
       "\n",
       "              user                                               text  \\\n",
       "0  _TheSpecialOne_  @switchfoot http://twitpic.com/2y1zl - Awww, t...   \n",
       "1    scotthamilton  is upset that he can't update his Facebook by ...   \n",
       "2         mattycus  @Kenichan I dived many times for the ball. Man...   \n",
       "3          ElleCTF    my whole body feels itchy and like its on fire    \n",
       "4           Karoli  @nationwideclass no, it's not behaving at all....   \n",
       "\n",
       "  sentiment  \n",
       "0  Negative  \n",
       "1  Negative  \n",
       "2  Negative  \n",
       "3  Negative  \n",
       "4  Negative  "
      ]
     },
     "execution_count": 32,
     "metadata": {},
     "output_type": "execute_result"
    }
   ],
   "source": [
    "columns = [\"target\", \"ids\", \"date\", \"flag\", \"user\", \"text\"]\n",
    "df_sentiment = pd.read_csv(\n",
    "    \"dataset/training.1600000.processed.noemoticon.csv\",\n",
    "    encoding=\"utf-8\",\n",
    "    encoding_errors=\"ignore\",  # ignore caractere no decodable\n",
    "    names=columns,\n",
    ")\n",
    "# Map target labels: 0 -> Negative, 4 -> Positive\n",
    "df_sentiment[\"target\"] = df_sentiment[\"target\"].map({0: 0, 4: 1})\n",
    "# Create a columns for sentiment\n",
    "df_sentiment[\"sentiment\"] = [\n",
    "    \"Negative\" if x == 0 else \"Positive\" for x in df_sentiment[\"target\"]\n",
    "]\n",
    "df_sentiment.head()"
   ]
  },
  {
   "cell_type": "code",
   "execution_count": 4,
   "metadata": {},
   "outputs": [
    {
     "name": "stdout",
     "output_type": "stream",
     "text": [
      "<class 'pandas.core.frame.DataFrame'>\n",
      "RangeIndex: 1600000 entries, 0 to 1599999\n",
      "Data columns (total 7 columns):\n",
      " #   Column     Non-Null Count    Dtype \n",
      "---  ------     --------------    ----- \n",
      " 0   target     1600000 non-null  int64 \n",
      " 1   ids        1600000 non-null  int64 \n",
      " 2   date       1600000 non-null  object\n",
      " 3   flag       1600000 non-null  object\n",
      " 4   user       1600000 non-null  object\n",
      " 5   text       1600000 non-null  object\n",
      " 6   sentiment  1600000 non-null  object\n",
      "dtypes: int64(2), object(5)\n",
      "memory usage: 85.4+ MB\n"
     ]
    }
   ],
   "source": [
    "df_sentiment.info()"
   ]
  },
  {
   "cell_type": "markdown",
   "metadata": {},
   "source": [
    "- Information sur sur les colonnes : \n",
    " 1. target: the polarity of the tweet (0 = negative, 2 = neutral, 4 = positive)\n",
    "\n",
    " 2. ids: The id of the tweet (2087)\n",
    "\n",
    " 3. date: the date of the tweet (Sat May 16 23:58:44 UTC 2009)\n",
    "\n",
    " 4. flag: The query (lyx). If there is no query, then this value is NO_QUERY.\n",
    "\n",
    " 5. user: the user that tweeted (robotickilldozr)\n",
    "\n"
   ]
  },
  {
   "cell_type": "markdown",
   "metadata": {},
   "source": [
    "### Analyse exploratoire du jeu de données"
   ]
  },
  {
   "cell_type": "markdown",
   "metadata": {},
   "source": [
    "#### Distribution des sentiments des tweets "
   ]
  },
  {
   "cell_type": "code",
   "execution_count": 5,
   "metadata": {},
   "outputs": [
    {
     "name": "stderr",
     "output_type": "stream",
     "text": [
      "/tmp/ipykernel_202662/873848287.py:14: UserWarning: No artists with labels found to put in legend.  Note that artists whose label start with an underscore are ignored when legend() is called with no argument.\n",
      "  plt.legend()\n"
     ]
    },
    {
     "data": {
      "image/png": "[encoded data removed]",
      "text/plain": [
       "<Figure size 640x480 with 1 Axes>"
      ]
     },
     "metadata": {},
     "output_type": "display_data"
    }
   ],
   "source": [
    "# check the number of different sentiment values on dataframe\n",
    "\n",
    "negatif_count = df_sentiment[df_sentiment[\"target\"] == 0].shape[0]\n",
    "positif_count = df_sentiment[df_sentiment[\"target\"] == 1].shape[0]\n",
    "\n",
    "categories = [\"Négatif\", \"Positif\"]\n",
    "counts = [negatif_count, positif_count]\n",
    "colors = [\"red\", \"green\"]\n",
    "\n",
    "plt.bar(categories, counts, color=colors, alpha=0.7)\n",
    "plt.title(\"Nombre de tweets par sentiment\")\n",
    "plt.xlabel(\"Sentiment\")\n",
    "plt.ylabel(\"Nombre de tweets\")\n",
    "plt.legend()\n",
    "plt.show()"
   ]
  },
  {
   "cell_type": "markdown",
   "metadata": {},
   "source": [
    "#### Distribution mots des tweets"
   ]
  },
  {
   "cell_type": "code",
   "execution_count": 6,
   "metadata": {},
   "outputs": [
    {
     "name": "stdout",
     "output_type": "stream",
     "text": [
      "1600000\n"
     ]
    }
   ],
   "source": [
    "print(len(df_sentiment[\"text\"]))"
   ]
  },
  {
   "cell_type": "code",
   "execution_count": 7,
   "metadata": {},
   "outputs": [
    {
     "name": "stdout",
     "output_type": "stream",
     "text": [
      " ---------------------------------------- \n",
      " Nombre de tweets: 1600000\n",
      " Nombre de mot dans total dans les tweets : 118461232\n",
      " Nombre de mot mininum pour un tweet : 6\n",
      " Nombre de mot maximum pour un tweet : 235\n",
      "---------------------------------------- \n",
      "\n"
     ]
    }
   ],
   "source": [
    "number_of_tweet = len(df_sentiment[\"text\"])\n",
    "df_sentiment_lens = df_sentiment[\"text\"].str.len()\n",
    "\n",
    "total_word_df_sentiment, df_sentiment_min, df_sentiment_max = (\n",
    "    df_sentiment_lens.sum(),\n",
    "    df_sentiment_lens.min(),\n",
    "    df_sentiment_lens.max(),\n",
    ")\n",
    "\n",
    "\n",
    "print(\n",
    "    f\" {'-' * 40} \\n Nombre de tweets: {number_of_tweet}\\n Nombre de mot dans total dans les tweets : {total_word_df_sentiment}\\n Nombre de mot mininum pour un tweet : {df_sentiment_min}\\n Nombre de mot maximum pour un tweet : {df_sentiment_max}\\n{'-' * 40} \\n\"\n",
    ")"
   ]
  },
  {
   "cell_type": "markdown",
   "metadata": {},
   "source": [
    "#### Wordcloud des sentiments des tweets"
   ]
  },
  {
   "cell_type": "markdown",
   "metadata": {},
   "source": [
    "##### Nettoyage du texte"
   ]
  },
  {
   "cell_type": "code",
   "execution_count": 33,
   "metadata": {},
   "outputs": [
    {
     "name": "stderr",
     "output_type": "stream",
     "text": [
      "[nltk_data] Downloading package stopwords to\n",
      "[nltk_data]     /home/dimitri/nltk_data...\n",
      "[nltk_data]   Package stopwords is already up-to-date!\n"
     ]
    }
   ],
   "source": [
    "# Télécharger les stopwords français\n",
    "nltk.download(\"stopwords\")\n",
    "stop_words = set(stopwords.words(\"english\"))\n",
    "\n",
    "\n",
    "# Fonction for clean text\n",
    "def clean_text(text):\n",
    "    # Convert to lower\n",
    "    text = text.lower()\n",
    "    # delete special caracter\n",
    "    text = re.sub(r\"\\W\", \" \", text)\n",
    "    # Remove mentions\n",
    "    text = re.sub(r\"@\\w+\", \"\", text)\n",
    "    # Remove URLs\n",
    "    text = re.sub(r\"http\\S+\", \"\", text)\n",
    "    text = re.sub(r\"\\d\", \" \", text)\n",
    "    # Remove empty word\n",
    "    words = text.split()\n",
    "    words = [word for word in words if word not in stop_words]\n",
    "    # Join clean words\n",
    "    text = \" \".join(words)\n",
    "    return text\n",
    "\n",
    "\n",
    "# Apply clean text to columns\n",
    "df_sentiment[\"text_clean\"] = df_sentiment[\"text\"].apply(clean_text)"
   ]
  },
  {
   "cell_type": "code",
   "execution_count": 34,
   "metadata": {},
   "outputs": [
    {
     "data": {
      "text/html": [
       "<div>\n",
       "<style scoped>\n",
       "    .dataframe tbody tr th:only-of-type {\n",
       "        vertical-align: middle;\n",
       "    }\n",
       "\n",
       "    .dataframe tbody tr th {\n",
       "        vertical-align: top;\n",
       "    }\n",
       "\n",
       "    .dataframe thead th {\n",
       "        text-align: right;\n",
       "    }\n",
       "</style>\n",
       "<table border=\"1\" class=\"dataframe\">\n",
       "  <thead>\n",
       "    <tr style=\"text-align: right;\">\n",
       "      <th></th>\n",
       "      <th>target</th>\n",
       "      <th>ids</th>\n",
       "      <th>date</th>\n",
       "      <th>flag</th>\n",
       "      <th>user</th>\n",
       "      <th>text</th>\n",
       "      <th>sentiment</th>\n",
       "      <th>text_clean</th>\n",
       "    </tr>\n",
       "  </thead>\n",
       "  <tbody>\n",
       "    <tr>\n",
       "      <th>0</th>\n",
       "      <td>0</td>\n",
       "      <td>1467810369</td>\n",
       "      <td>Mon Apr 06 22:19:45 PDT 2009</td>\n",
       "      <td>NO_QUERY</td>\n",
       "      <td>_TheSpecialOne_</td>\n",
       "      <td>@switchfoot http://twitpic.com/2y1zl - Awww, t...</td>\n",
       "      <td>Negative</td>\n",
       "      <td>switchfoot http twitpic com zl awww bummer sho...</td>\n",
       "    </tr>\n",
       "    <tr>\n",
       "      <th>1</th>\n",
       "      <td>0</td>\n",
       "      <td>1467810672</td>\n",
       "      <td>Mon Apr 06 22:19:49 PDT 2009</td>\n",
       "      <td>NO_QUERY</td>\n",
       "      <td>scotthamilton</td>\n",
       "      <td>is upset that he can't update his Facebook by ...</td>\n",
       "      <td>Negative</td>\n",
       "      <td>upset update facebook texting might cry result...</td>\n",
       "    </tr>\n",
       "    <tr>\n",
       "      <th>2</th>\n",
       "      <td>0</td>\n",
       "      <td>1467810917</td>\n",
       "      <td>Mon Apr 06 22:19:53 PDT 2009</td>\n",
       "      <td>NO_QUERY</td>\n",
       "      <td>mattycus</td>\n",
       "      <td>@Kenichan I dived many times for the ball. Man...</td>\n",
       "      <td>Negative</td>\n",
       "      <td>kenichan dived many times ball managed save re...</td>\n",
       "    </tr>\n",
       "    <tr>\n",
       "      <th>3</th>\n",
       "      <td>0</td>\n",
       "      <td>1467811184</td>\n",
       "      <td>Mon Apr 06 22:19:57 PDT 2009</td>\n",
       "      <td>NO_QUERY</td>\n",
       "      <td>ElleCTF</td>\n",
       "      <td>my whole body feels itchy and like its on fire</td>\n",
       "      <td>Negative</td>\n",
       "      <td>whole body feels itchy like fire</td>\n",
       "    </tr>\n",
       "    <tr>\n",
       "      <th>4</th>\n",
       "      <td>0</td>\n",
       "      <td>1467811193</td>\n",
       "      <td>Mon Apr 06 22:19:57 PDT 2009</td>\n",
       "      <td>NO_QUERY</td>\n",
       "      <td>Karoli</td>\n",
       "      <td>@nationwideclass no, it's not behaving at all....</td>\n",
       "      <td>Negative</td>\n",
       "      <td>nationwideclass behaving mad see</td>\n",
       "    </tr>\n",
       "  </tbody>\n",
       "</table>\n",
       "</div>"
      ],
      "text/plain": [
       "   target         ids                          date      flag  \\\n",
       "0       0  1467810369  Mon Apr 06 22:19:45 PDT 2009  NO_QUERY   \n",
       "1       0  1467810672  Mon Apr 06 22:19:49 PDT 2009  NO_QUERY   \n",
       "2       0  1467810917  Mon Apr 06 22:19:53 PDT 2009  NO_QUERY   \n",
       "3       0  1467811184  Mon Apr 06 22:19:57 PDT 2009  NO_QUERY   \n",
       "4       0  1467811193  Mon Apr 06 22:19:57 PDT 2009  NO_QUERY   \n",
       "\n",
       "              user                                               text  \\\n",
       "0  _TheSpecialOne_  @switchfoot http://twitpic.com/2y1zl - Awww, t...   \n",
       "1    scotthamilton  is upset that he can't update his Facebook by ...   \n",
       "2         mattycus  @Kenichan I dived many times for the ball. Man...   \n",
       "3          ElleCTF    my whole body feels itchy and like its on fire    \n",
       "4           Karoli  @nationwideclass no, it's not behaving at all....   \n",
       "\n",
       "  sentiment                                         text_clean  \n",
       "0  Negative  switchfoot http twitpic com zl awww bummer sho...  \n",
       "1  Negative  upset update facebook texting might cry result...  \n",
       "2  Negative  kenichan dived many times ball managed save re...  \n",
       "3  Negative                   whole body feels itchy like fire  \n",
       "4  Negative                   nationwideclass behaving mad see  "
      ]
     },
     "execution_count": 34,
     "metadata": {},
     "output_type": "execute_result"
    }
   ],
   "source": [
    "df_sentiment.head()"
   ]
  },
  {
   "cell_type": "code",
   "execution_count": 35,
   "metadata": {},
   "outputs": [
    {
     "name": "stdout",
     "output_type": "stream",
     "text": [
      "Lignes problématiques :\n",
      "         target         ids                          date      flag  \\\n",
      "3997          0  1468720797  Tue Apr 07 03:21:48 PDT 2009  NO_QUERY   \n",
      "4233          0  1468771833  Tue Apr 07 03:39:06 PDT 2009  NO_QUERY   \n",
      "18950         0  1556733475  Sun Apr 19 00:05:23 PDT 2009  NO_QUERY   \n",
      "19062         0  1556760319  Sun Apr 19 00:12:56 PDT 2009  NO_QUERY   \n",
      "24317         0  1557961366  Sun Apr 19 06:44:36 PDT 2009  NO_QUERY   \n",
      "...         ...         ...                           ...       ...   \n",
      "1592715       1  2191790700  Tue Jun 16 05:58:39 PDT 2009  NO_QUERY   \n",
      "1595775       1  2192466848  Tue Jun 16 07:04:51 PDT 2009  NO_QUERY   \n",
      "1596318       1  2192628378  Tue Jun 16 07:19:07 PDT 2009  NO_QUERY   \n",
      "1598921       1  2193305981  Tue Jun 16 08:16:39 PDT 2009  NO_QUERY   \n",
      "1599811       1  2193550913  Tue Jun 16 08:36:39 PDT 2009  NO_QUERY   \n",
      "\n",
      "                   user                 text sentiment text_clean  \n",
      "3997         mohdnajwan          what to do   Negative             \n",
      "4233         goldieloxx                just   Negative             \n",
      "18950    LouiseRedknapp            up again   Negative             \n",
      "19062           krh1130      I've been here   Negative             \n",
      "24317        joymercado       He's not here   Negative             \n",
      "...                 ...                  ...       ...        ...  \n",
      "1592715        halleyji  so this it .. then   Positive             \n",
      "1595775    ValeriaJsmPr           here I am   Positive             \n",
      "1596318      aptextclan         is ON!!!!!!   Positive             \n",
      "1598921      Jsstar0273            If only?   Positive             \n",
      "1599811       handriani      to be with you   Positive             \n",
      "\n",
      "[483 rows x 8 columns]\n"
     ]
    }
   ],
   "source": [
    "empty_text = df_sentiment[\n",
    "    df_sentiment[\"text_clean\"].isnull() | (df_sentiment[\"text_clean\"] == \"\")\n",
    "]\n",
    "print(f\"Lignes problématiques :\\n{empty_text}\")"
   ]
  },
  {
   "cell_type": "code",
   "execution_count": 36,
   "metadata": {},
   "outputs": [],
   "source": [
    "# Delete empty rows after cleaning\n",
    "df_sentiment = df_sentiment[df_sentiment[\"text_clean\"] != \"\"]"
   ]
  },
  {
   "cell_type": "code",
   "execution_count": null,
   "metadata": {},
   "outputs": [
    {
     "name": "stderr",
     "output_type": "stream",
     "text": [
      "Exception ignored in: <bound method IPythonKernel._clean_thread_parent_frames of <ipykernel.ipkernel.IPythonKernel object at 0x7ae1a2446270>>\n",
      "Traceback (most recent call last):\n",
      "  File \"/home/dimitri/anaconda3/envs/projet_7/lib/python3.13/site-packages/ipykernel/ipkernel.py\", line 775, in _clean_thread_parent_frames\n",
      "    def _clean_thread_parent_frames(\n",
      "KeyboardInterrupt: \n"
     ]
    }
   ],
   "source": [
    "# Separate texts by sentiment\n",
    "positive_text = \" \".join(df_sentiment[df_sentiment[\"target\"] == 1][\"text_clean\"])\n",
    "negative_text = \" \".join(df_sentiment[df_sentiment[\"target\"] == 0][\"text_clean\"])\n",
    "\n",
    "# Generate word cloud for positive texts\n",
    "wordcloud_positive = WordCloud(\n",
    "    width=800, height=400, background_color=\"white\"\n",
    ").generate(positive_text)\n",
    "plt.figure(figsize=(10, 5))\n",
    "plt.imshow(wordcloud_positive, interpolation=\"bilinear\")\n",
    "plt.axis(\"off\")\n",
    "plt.title(\"Word Cloud - Positive Sentiments\")\n",
    "plt.show()\n",
    "\n",
    "# Generate word cloud for negative texts\n",
    "wordcloud_negative = WordCloud(\n",
    "    width=800, height=400, background_color=\"white\"\n",
    ").generate(negative_text)\n",
    "plt.figure(figsize=(10, 5))\n",
    "plt.imshow(wordcloud_negative, interpolation=\"bilinear\")\n",
    "plt.axis(\"off\")\n",
    "plt.title(\"Word Cloud - Negative Sentiments\")\n",
    "plt.show()"
   ]
  },
  {
   "cell_type": "markdown",
   "metadata": {},
   "source": [
    "#### Export des données "
   ]
  },
  {
   "cell_type": "code",
   "execution_count": 37,
   "metadata": {},
   "outputs": [],
   "source": [
    "df_sentiment.to_csv(\n",
    "    \"dataset/dataset_sentiment_clean.csv\", index=False, encoding=\"utf-8\"\n",
    ")"
   ]
  }
 ],
 "metadata": {
  "kernelspec": {
   "display_name": "projet_7_env",
   "language": "python",
   "name": "python3"
  },
  "language_info": {
   "codemirror_mode": {
    "name": "ipython",
    "version": 3
   },
   "file_extension": ".py",
   "mimetype": "text/x-python",
   "name": "python",
   "nbconvert_exporter": "python",
   "pygments_lexer": "ipython3",
   "version": "3.10.15"
  }
 },
 "nbformat": 4,
 "nbformat_minor": 2
}
